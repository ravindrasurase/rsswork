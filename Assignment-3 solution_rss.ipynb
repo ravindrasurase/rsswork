{
 "cells": [
  {
   "cell_type": "code",
   "execution_count": null,
   "id": "f1462109",
   "metadata": {},
   "outputs": [],
   "source": [
    "1.Why are functions advantageous to have in your programs?\n",
    "Functions reduce the need for duplicate code. This makes programs shorter, easier to read, and easier to update."
   ]
  },
  {
   "cell_type": "code",
   "execution_count": null,
   "id": "3293b207",
   "metadata": {},
   "outputs": [],
   "source": [
    "2.2.When does the code in a function run: when it's specified or when it's called?\n",
    "    When a function is \"called\" the program \"leaves\" the current section of code and begins to execute the first line inside the function."
   ]
  },
  {
   "cell_type": "code",
   "execution_count": null,
   "id": "04baf67d",
   "metadata": {},
   "outputs": [],
   "source": [
    "3.What statement creates a function?\n",
    "   A function is created with the def keyword"
   ]
  },
  {
   "cell_type": "code",
   "execution_count": null,
   "id": "94568e17",
   "metadata": {},
   "outputs": [],
   "source": [
    "4. What is the difference between a function and a function call?\n",
    "A function is procedure to achieve a particular result while function call is using this function to achive that task."
   ]
  },
  {
   "cell_type": "code",
   "execution_count": null,
   "id": "17114d82",
   "metadata": {},
   "outputs": [],
   "source": [
    "5. How many global scopes are there in a Python program? How many local scopes?\n",
    "There's only one global Python scope per program execution. Python have three local scopes—the local (L), then the global (G), and then the built-in (B)"
   ]
  },
  {
   "cell_type": "code",
   "execution_count": null,
   "id": "cc4b451f",
   "metadata": {},
   "outputs": [],
   "source": [
    "6. What happens to variables in a local scope when the function call returns?\n",
    "When the execution of the function terminates (returns), the local variables are destroyed. .So it is not possible for a function to set some local variable to a value, complete its execution, and then when it is called again next time, recover the local variable."
   ]
  },
  {
   "cell_type": "code",
   "execution_count": null,
   "id": "b34297c7",
   "metadata": {},
   "outputs": [],
   "source": [
    "7. What is the concept of a return value? Is it possible to have a return value in an expression?\n",
    "A return statement is used to end the execution of the function call and “returns” the result to the caller. The statements after the return statements are not executed. If the return statement is without any expression, then the special value None is returned."
   ]
  },
  {
   "cell_type": "code",
   "execution_count": null,
   "id": "1eba62c1",
   "metadata": {},
   "outputs": [],
   "source": [
    "8.. If a function does not have a return statement, what is the return value of a call to that function?\n",
    "In Python, every function returns something. If there are no return statements, then it returns None."
   ]
  },
  {
   "cell_type": "code",
   "execution_count": null,
   "id": "5d70f948",
   "metadata": {},
   "outputs": [],
   "source": [
    "9. How do you make a function variable refer to the global variable?\n",
    "Use the global keyword to declare which variables are global ( global†keyword ).\n"
   ]
  },
  {
   "cell_type": "code",
   "execution_count": null,
   "id": "0286c3ec",
   "metadata": {},
   "outputs": [],
   "source": [
    "10. What None is used to define a null value. It is not the same as an empty string, False, or a zero. It is a data type of the class NoneType object.is the data type of None?\n",
    "None is used to define a null value. It is not the same as an empty string, False, or a zero. It is a data type of the class NoneType object."
   ]
  },
  {
   "cell_type": "code",
   "execution_count": null,
   "id": "bad2df16",
   "metadata": {},
   "outputs": [],
   "source": [
    "11. What does the sentence import areallyourpetsnamederic do?\n",
    "The import statement imports a module named areallyourpetsnamederic.\n"
   ]
  },
  {
   "cell_type": "code",
   "execution_count": null,
   "id": "89f11908",
   "metadata": {},
   "outputs": [],
   "source": [
    "12. If you had a bacon() feature in a spam module, what would you call it after importing spam?\n",
    "       spam. bacon()."
   ]
  },
  {
   "cell_type": "code",
   "execution_count": null,
   "id": "78ea61ca",
   "metadata": {},
   "outputs": [],
   "source": [
    "13. What can you do to save a programme from crashing if it encounters an error?\n",
    "     Error handling can be used to notify the user of why the error occurred and gracefully exit the process that caused the error."
   ]
  },
  {
   "cell_type": "code",
   "execution_count": null,
   "id": "b8c8f3c8",
   "metadata": {},
   "outputs": [],
   "source": [
    "14. What is the purpose of the try clause? What is the purpose of the except clause?\n",
    "The try block allows you to test a block of code for errors. The except block enables you to handle the error with a user-defined response.\n"
   ]
  }
 ],
 "metadata": {
  "kernelspec": {
   "display_name": "Python 3 (ipykernel)",
   "language": "python",
   "name": "python3"
  },
  "language_info": {
   "codemirror_mode": {
    "name": "ipython",
    "version": 3
   },
   "file_extension": ".py",
   "mimetype": "text/x-python",
   "name": "python",
   "nbconvert_exporter": "python",
   "pygments_lexer": "ipython3",
   "version": "3.9.7"
  }
 },
 "nbformat": 4,
 "nbformat_minor": 5
}
