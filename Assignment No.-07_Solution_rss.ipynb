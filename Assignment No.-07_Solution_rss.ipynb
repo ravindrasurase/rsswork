{
  "nbformat": 4,
  "nbformat_minor": 0,
  "metadata": {
    "colab": {
      "name": "Assignment No.-07_Solution_rss.ipynb",
      "provenance": [],
      "collapsed_sections": []
    },
    "kernelspec": {
      "name": "python3",
      "display_name": "Python 3"
    },
    "language_info": {
      "name": "python"
    }
  },
  "cells": [
    {
      "cell_type": "code",
      "execution_count": 1,
      "metadata": {
        "id": "HbjX-SPcClJs"
      },
      "outputs": [],
      "source": [
        "#1. What is the name of the feature responsible for generating Regex objects?\n",
        "#Solution: import re\n",
        "#re.compile(pattern) - > The re.compile() function returns Regex objects."
      ]
    },
    {
      "cell_type": "code",
      "source": [
        "import re\n",
        "re.compile(\"string\")"
      ],
      "metadata": {
        "colab": {
          "base_uri": "https://localhost:8080/"
        },
        "id": "MH5nUJe1LQEb",
        "outputId": "9b7827cc-a0d5-480a-bc6b-3a7568489314"
      },
      "execution_count": 4,
      "outputs": [
        {
          "output_type": "execute_result",
          "data": {
            "text/plain": [
              "re.compile(r'string', re.UNICODE)"
            ]
          },
          "metadata": {},
          "execution_count": 4
        }
      ]
    },
    {
      "cell_type": "code",
      "source": [
        "#2. Why do raw strings often appear in Regex objects?\n",
        "#Solution: Raw strings are used so that backslashes do not have to be escaped"
      ],
      "metadata": {
        "id": "9KweDhLqLUef"
      },
      "execution_count": 1,
      "outputs": []
    },
    {
      "cell_type": "code",
      "source": [
        "#3. What is the return value of the search() method?\n",
        "#Solution: The search() method searches a string for a specified value, and returns the position of the match.\n",
        "#The search value can be string or a regular expression.\n",
        "#This method returns -1 if no match is found"
      ],
      "metadata": {
        "id": "nVUwFtWaLvFs"
      },
      "execution_count": 2,
      "outputs": []
    },
    {
      "cell_type": "code",
      "source": [
        "# 4. From a Match item, how do you get the actual strings that match the pattern?\n",
        "# Solution: Calling matchingObject.group() will return the string."
      ],
      "metadata": {
        "id": "IRGK3TYRpAnD"
      },
      "execution_count": 12,
      "outputs": []
    },
    {
      "cell_type": "code",
      "source": [
        "phoneNumRegex = re.compile(r'\\d\\d\\d-\\d\\d\\d-\\d\\d\\d\\d')\n",
        "mo = phoneNumRegex.search('My number is 415-555-4242.')\n",
        "print('Phone number found: ' + mo.group())"
      ],
      "metadata": {
        "colab": {
          "base_uri": "https://localhost:8080/",
          "height": 200
        },
        "id": "xen6B9wewNF-",
        "outputId": "0887b650-aeeb-4cbd-b8af-d9aad8e45447"
      },
      "execution_count": 13,
      "outputs": [
        {
          "output_type": "error",
          "ename": "NameError",
          "evalue": "ignored",
          "traceback": [
            "\u001b[0;31m---------------------------------------------------------------------------\u001b[0m",
            "\u001b[0;31mNameError\u001b[0m                                 Traceback (most recent call last)",
            "\u001b[0;32m<ipython-input-13-6e06fd3bc58f>\u001b[0m in \u001b[0;36m<module>\u001b[0;34m()\u001b[0m\n\u001b[0;32m----> 1\u001b[0;31m \u001b[0mphoneNumRegex\u001b[0m \u001b[0;34m=\u001b[0m \u001b[0mre\u001b[0m\u001b[0;34m.\u001b[0m\u001b[0mcompile\u001b[0m\u001b[0;34m(\u001b[0m\u001b[0;34mr'\\d\\d\\d-\\d\\d\\d-\\d\\d\\d\\d'\u001b[0m\u001b[0;34m)\u001b[0m\u001b[0;34m\u001b[0m\u001b[0;34m\u001b[0m\u001b[0m\n\u001b[0m\u001b[1;32m      2\u001b[0m \u001b[0mmo\u001b[0m \u001b[0;34m=\u001b[0m \u001b[0mphoneNumRegex\u001b[0m\u001b[0;34m.\u001b[0m\u001b[0msearch\u001b[0m\u001b[0;34m(\u001b[0m\u001b[0;34m'My number is 415-555-4242.'\u001b[0m\u001b[0;34m)\u001b[0m\u001b[0;34m\u001b[0m\u001b[0;34m\u001b[0m\u001b[0m\n\u001b[1;32m      3\u001b[0m \u001b[0mprint\u001b[0m\u001b[0;34m(\u001b[0m\u001b[0;34m'Phone number found: '\u001b[0m \u001b[0;34m+\u001b[0m \u001b[0mmo\u001b[0m\u001b[0;34m.\u001b[0m\u001b[0mgroup\u001b[0m\u001b[0;34m(\u001b[0m\u001b[0;34m)\u001b[0m\u001b[0;34m)\u001b[0m\u001b[0;34m\u001b[0m\u001b[0;34m\u001b[0m\u001b[0m\n",
            "\u001b[0;31mNameError\u001b[0m: name 're' is not defined"
          ]
        }
      ]
    },
    {
      "cell_type": "code",
      "source": [
        "import re\n",
        "re.compile(\"string\")"
      ],
      "metadata": {
        "colab": {
          "base_uri": "https://localhost:8080/"
        },
        "id": "1nqjO-P9wPw5",
        "outputId": "5fa2e656-03b0-4f8c-8a8f-9d673d195cd7"
      },
      "execution_count": 14,
      "outputs": [
        {
          "output_type": "execute_result",
          "data": {
            "text/plain": [
              "re.compile(r'string', re.UNICODE)"
            ]
          },
          "metadata": {},
          "execution_count": 14
        }
      ]
    },
    {
      "cell_type": "code",
      "source": [
        "phoneNumRegex = re.compile(r'\\d\\d\\d-\\d\\d\\d-\\d\\d\\d\\d')"
      ],
      "metadata": {
        "id": "JkCkDwoxwY8r"
      },
      "execution_count": 15,
      "outputs": []
    },
    {
      "cell_type": "code",
      "source": [
        "mo = phoneNumRegex.search('My number is 415-555-4242.')\n",
        "print('Phone number found: ' + mo.group())"
      ],
      "metadata": {
        "colab": {
          "base_uri": "https://localhost:8080/"
        },
        "id": "_MjROorZwcG3",
        "outputId": "8e61f022-51f4-4486-d583-5e93c26f67ec"
      },
      "execution_count": 18,
      "outputs": [
        {
          "output_type": "stream",
          "name": "stdout",
          "text": [
            "Phone number found: 415-555-4242\n"
          ]
        }
      ]
    },
    {
      "cell_type": "code",
      "source": [
        "# 5. In the regex which created from the r'(\\d\\d\\d)-(\\d\\d\\d-\\d\\d\\d\\d)', what does group zero cover? Group 2? Group 1?\n",
        "# Solution: regex: (\\d\\d\\d)-(\\d\\d\\d-\\d\\d\\d\\d)\n",
        "# The first set of parentheses in a regex string will be group 1. \n",
        "# The second set will be group 2. \n",
        "# By passing the integer 1 or 2 to the group() match object method, you can grab different parts of the matched text. \n",
        "# Passing 0 or nothing to the group() method will return the entire matched text"
      ],
      "metadata": {
        "id": "AWFrFNp_whoD"
      },
      "execution_count": 19,
      "outputs": []
    },
    {
      "cell_type": "code",
      "source": [
        "phoneNumRegex = re.compile(r'(\\d\\d\\d)-(\\d\\d\\d-\\d\\d\\d\\d)')\n",
        "mo = phoneNumRegex.search('My number is 415-555-4242.')\n",
        "mo.group(1)"
      ],
      "metadata": {
        "colab": {
          "base_uri": "https://localhost:8080/",
          "height": 35
        },
        "id": "gf5elNNqxKn9",
        "outputId": "bde424e3-7ec5-4ab1-935c-6751c6d4acb3"
      },
      "execution_count": 20,
      "outputs": [
        {
          "output_type": "execute_result",
          "data": {
            "application/vnd.google.colaboratory.intrinsic+json": {
              "type": "string"
            },
            "text/plain": [
              "'415'"
            ]
          },
          "metadata": {},
          "execution_count": 20
        }
      ]
    },
    {
      "cell_type": "code",
      "source": [
        "mo.group(2)"
      ],
      "metadata": {
        "colab": {
          "base_uri": "https://localhost:8080/",
          "height": 35
        },
        "id": "aQUAPn9PxWp4",
        "outputId": "efe02cf2-327e-4ae4-c9db-35ab668ca32d"
      },
      "execution_count": 21,
      "outputs": [
        {
          "output_type": "execute_result",
          "data": {
            "application/vnd.google.colaboratory.intrinsic+json": {
              "type": "string"
            },
            "text/plain": [
              "'555-4242'"
            ]
          },
          "metadata": {},
          "execution_count": 21
        }
      ]
    },
    {
      "cell_type": "code",
      "source": [
        "mo.group(0)"
      ],
      "metadata": {
        "colab": {
          "base_uri": "https://localhost:8080/",
          "height": 35
        },
        "id": "8DHMJSa7xaOH",
        "outputId": "ef8f58ab-4cf6-41d6-c418-13df4344c09a"
      },
      "execution_count": 22,
      "outputs": [
        {
          "output_type": "execute_result",
          "data": {
            "application/vnd.google.colaboratory.intrinsic+json": {
              "type": "string"
            },
            "text/plain": [
              "'415-555-4242'"
            ]
          },
          "metadata": {},
          "execution_count": 22
        }
      ]
    },
    {
      "cell_type": "code",
      "source": [
        "mo.group()"
      ],
      "metadata": {
        "colab": {
          "base_uri": "https://localhost:8080/",
          "height": 35
        },
        "id": "zzR3McNzxdJP",
        "outputId": "1910e5ea-7490-4f39-95ae-1dbe73ffae57"
      },
      "execution_count": 23,
      "outputs": [
        {
          "output_type": "execute_result",
          "data": {
            "application/vnd.google.colaboratory.intrinsic+json": {
              "type": "string"
            },
            "text/plain": [
              "'415-555-4242'"
            ]
          },
          "metadata": {},
          "execution_count": 23
        }
      ]
    },
    {
      "cell_type": "code",
      "source": [
        "# 6. In standard expression syntax, parentheses and intervals have distinct meanings. \n",
        "# How can you tell a regex that you want it to fit real parentheses and periods?\n",
        "# Solution: Periods and parentheses can be escaped with a backslash: \\., \\(, and \\)."
      ],
      "metadata": {
        "id": "cwVAGYjuxiyj"
      },
      "execution_count": 24,
      "outputs": []
    },
    {
      "cell_type": "code",
      "source": [
        "# 7. The findall() method returns a string list or a list of string tuples. What causes it to return one of the two options?\n",
        "# Solution: If the regex has no groups, a list of strings is returned. If the regex has groups, a list of tuples of strings is returned."
      ],
      "metadata": {
        "id": "xVsJBIzBx5oN"
      },
      "execution_count": 25,
      "outputs": []
    },
    {
      "cell_type": "code",
      "source": [
        "# 8. In standard expressions, what does the | character mean?\n",
        "# The | character is called a pipe. You can use it anywhere you want to match one of many expressions. \n",
        "# For example, the regular expression r'Banana|Apple Fruit' will match either 'Banana' or 'Apple Fruit'.\n",
        "\n",
        "# When both Banana and Apple Fruit occur in the searched string, the first occurrence of matching text will be returned as the Match object.\n",
        "\n",
        "# The | character signifies matching “either, or” between two groups\n",
        "\n"
      ],
      "metadata": {
        "id": "g8JE3M_7yQq4"
      },
      "execution_count": 26,
      "outputs": []
    },
    {
      "cell_type": "code",
      "source": [
        "fruitRegex = re.compile (r'Banana|Apple Fruit')\n",
        "mo1 = fruitRegex.search('Banana and Apple Fruit')\n",
        "mo1.group()"
      ],
      "metadata": {
        "colab": {
          "base_uri": "https://localhost:8080/",
          "height": 35
        },
        "id": "pp0xZqYhzPEV",
        "outputId": "af8e8612-3a61-475d-a5bf-437acb59bba8"
      },
      "execution_count": 27,
      "outputs": [
        {
          "output_type": "execute_result",
          "data": {
            "application/vnd.google.colaboratory.intrinsic+json": {
              "type": "string"
            },
            "text/plain": [
              "'Banana'"
            ]
          },
          "metadata": {},
          "execution_count": 27
        }
      ]
    },
    {
      "cell_type": "code",
      "source": [
        "mo2 = fruitRegex.search('Apple Fruit and Banana')\n",
        "mo2.group()"
      ],
      "metadata": {
        "colab": {
          "base_uri": "https://localhost:8080/",
          "height": 35
        },
        "id": "RVuMPfEAzS3v",
        "outputId": "033bb5f6-4f47-438e-b9ff-20ca6b07319b"
      },
      "execution_count": 28,
      "outputs": [
        {
          "output_type": "execute_result",
          "data": {
            "application/vnd.google.colaboratory.intrinsic+json": {
              "type": "string"
            },
            "text/plain": [
              "'Apple Fruit'"
            ]
          },
          "metadata": {},
          "execution_count": 28
        }
      ]
    },
    {
      "cell_type": "code",
      "source": [
        "# 9. In regular expressions, what does the ? character stand for?\n",
        "# Solution: The ? character can either mean “match zero or one of the preceding group”.\n",
        "\n",
        "# Sometimes there is a pattern that you want to match only optionally. That is, the regex should find a match regardless\n",
        "# of whether that bit of text is there. The ? character flags the group that precedes it as an optional part of the pattern."
      ],
      "metadata": {
        "id": "R-DK1Ph8zW65"
      },
      "execution_count": 29,
      "outputs": []
    },
    {
      "cell_type": "code",
      "source": [
        "batRegex = re.compile(r'Bat(wo)?man')\n",
        "mo1 = batRegex.search('The Adventures of Batman')\n",
        "mo1.group()"
      ],
      "metadata": {
        "colab": {
          "base_uri": "https://localhost:8080/",
          "height": 35
        },
        "id": "yIqVN0dqz270",
        "outputId": "6677d122-6fa9-44b3-889d-d8cd1f3ee842"
      },
      "execution_count": 30,
      "outputs": [
        {
          "output_type": "execute_result",
          "data": {
            "application/vnd.google.colaboratory.intrinsic+json": {
              "type": "string"
            },
            "text/plain": [
              "'Batman'"
            ]
          },
          "metadata": {},
          "execution_count": 30
        }
      ]
    },
    {
      "cell_type": "code",
      "source": [
        "mo2 = batRegex.search('The Adventures of Batwoman')\n",
        "mo2.group()"
      ],
      "metadata": {
        "colab": {
          "base_uri": "https://localhost:8080/",
          "height": 35
        },
        "id": "W0MNNe7Fz7aR",
        "outputId": "47ca9526-9413-407a-f8ef-d25aceeb95a9"
      },
      "execution_count": 31,
      "outputs": [
        {
          "output_type": "execute_result",
          "data": {
            "application/vnd.google.colaboratory.intrinsic+json": {
              "type": "string"
            },
            "text/plain": [
              "'Batwoman'"
            ]
          },
          "metadata": {},
          "execution_count": 31
        }
      ]
    },
    {
      "cell_type": "code",
      "source": [
        "# 10.In regular expressions, what is the difference between the + and * characters?\n",
        "# Solution: The + matches one or more. The * matches zero or more"
      ],
      "metadata": {
        "id": "kR9kOuM40DWR"
      },
      "execution_count": 32,
      "outputs": []
    },
    {
      "cell_type": "code",
      "source": [
        "# 11. What is the difference between {4} and {4,5} in regular expression?\n",
        "# Solution: The {3} matches exactly three instances of the preceding group. \n",
        "# The {3,5} matches between three and five instances"
      ],
      "metadata": {
        "id": "P0kGKT7m0YUA"
      },
      "execution_count": 33,
      "outputs": []
    },
    {
      "cell_type": "code",
      "source": [
        "# 12. What do you mean by the \\d, \\w, and \\s shorthand character classes signify in regular expressions?\n",
        "\n",
        "# Solution: The \\d, stands for single digit, Any numeric digit from 0 to 9\n",
        "\n",
        "# \\w, stands for single word, Any letter, numeric digit, or the underscore character. (Think of this as matching “word” characters.)\n",
        "\n",
        "# \\s stands for single space character, Any space, tab, or newline character. (Think of this as matching “space” characters.)"
      ],
      "metadata": {
        "id": "kWaA0wWn0qyF"
      },
      "execution_count": 34,
      "outputs": []
    },
    {
      "cell_type": "code",
      "source": [
        "# 13. What do means by \\D, \\W, and \\S shorthand character classes signify in regular expressions?\n",
        "\n",
        "# Solution: \\D - > Any character that is not a numeric digit from 0 to 9.\n",
        "# \\W - > Any character that is not a letter, numeric digit, or the underscore character.\n",
        "# \\S - > Any character that is not a space, tab, or newline."
      ],
      "metadata": {
        "id": "vn2m8VYN1Ivk"
      },
      "execution_count": 35,
      "outputs": []
    },
    {
      "cell_type": "code",
      "source": [
        "# 14. What is the difference between .* and .*?\n",
        "# Solution: .* - > The dot-star uses greedy mode: It will always try to match as much text as possible.\n",
        "\n",
        "# .*? - > To match any and all text in a non-greedy fashion, use the dot, star, and question mark (.*?). Like with braces, \n",
        "\n",
        "# the question mark tells Python to match in a non-greedy way."
      ],
      "metadata": {
        "id": "DeVufV5H1cb9"
      },
      "execution_count": 38,
      "outputs": []
    },
    {
      "cell_type": "code",
      "source": [
        "greedyRegex = re.compile(r'<.*>')\n",
        "mo = greedyRegex.search('<To serve man> for dinner.>')\n",
        "mo.group()"
      ],
      "metadata": {
        "colab": {
          "base_uri": "https://localhost:8080/",
          "height": 35
        },
        "id": "0yJwtfkO2FL9",
        "outputId": "ead5907b-2113-4687-8d34-bd45d653dc66"
      },
      "execution_count": 40,
      "outputs": [
        {
          "output_type": "execute_result",
          "data": {
            "application/vnd.google.colaboratory.intrinsic+json": {
              "type": "string"
            },
            "text/plain": [
              "'<To serve man> for dinner.>'"
            ]
          },
          "metadata": {},
          "execution_count": 40
        }
      ]
    },
    {
      "cell_type": "code",
      "source": [
        "nongreedyRegex = re.compile(r'<.*?>')\n",
        "mo = nongreedyRegex.search('<To serve man> for dinner.>')\n",
        "mo.group()"
      ],
      "metadata": {
        "colab": {
          "base_uri": "https://localhost:8080/",
          "height": 35
        },
        "id": "c_l6HJxw2jXx",
        "outputId": "efa101dc-e372-4cd9-c7bf-96aec7105a00"
      },
      "execution_count": 41,
      "outputs": [
        {
          "output_type": "execute_result",
          "data": {
            "application/vnd.google.colaboratory.intrinsic+json": {
              "type": "string"
            },
            "text/plain": [
              "'<To serve man>'"
            ]
          },
          "metadata": {},
          "execution_count": 41
        }
      ]
    },
    {
      "cell_type": "code",
      "source": [
        "# 15. What is the syntax for matching both numbers and lowercase letters with a character class?\n",
        "# Solution: Either [0-9a-z] or [a-z0-9]"
      ],
      "metadata": {
        "id": "pRnyLJS92nsV"
      },
      "execution_count": 42,
      "outputs": []
    },
    {
      "cell_type": "code",
      "source": [
        "reg1 = re.compile(r'[0-9a-z]')\n",
        "reg2 = re.compile(r'[a-z0-9]')\n",
        "\n",
        "mo1 = reg1.search('100 times I am Reading  this for 100 th time')\n",
        "mo1.group()"
      ],
      "metadata": {
        "colab": {
          "base_uri": "https://localhost:8080/",
          "height": 35
        },
        "id": "vhvVs9wn28YQ",
        "outputId": "eb33c16a-7e04-48d2-ddc6-1f1cd2e963da"
      },
      "execution_count": 43,
      "outputs": [
        {
          "output_type": "execute_result",
          "data": {
            "application/vnd.google.colaboratory.intrinsic+json": {
              "type": "string"
            },
            "text/plain": [
              "'1'"
            ]
          },
          "metadata": {},
          "execution_count": 43
        }
      ]
    },
    {
      "cell_type": "code",
      "source": [
        "reg2 = re.compile(r'[a-z0-9]')\n",
        "\n",
        "mo1 = reg2.search('times I am Reading  this for 100 th time')\n",
        "mo1.group()"
      ],
      "metadata": {
        "colab": {
          "base_uri": "https://localhost:8080/",
          "height": 35
        },
        "id": "C0129Af22_jo",
        "outputId": "a002d20d-828d-4d8a-d70e-cbd07dbc2752"
      },
      "execution_count": 44,
      "outputs": [
        {
          "output_type": "execute_result",
          "data": {
            "application/vnd.google.colaboratory.intrinsic+json": {
              "type": "string"
            },
            "text/plain": [
              "'t'"
            ]
          },
          "metadata": {},
          "execution_count": 44
        }
      ]
    },
    {
      "cell_type": "code",
      "source": [
        "# 16. What is the procedure for making a normal expression in regax case insensitive?\n",
        "# Solution: Passing re.I or re.IGNORECASE as the second argument to re.compile() will make the matching case insensitive"
      ],
      "metadata": {
        "id": "cLPbs8WZ3Ie4"
      },
      "execution_count": 45,
      "outputs": []
    },
    {
      "cell_type": "code",
      "source": [
        "casesen = re.compile(r'machine', re.I)\n",
        "casesen.search('Machine learning is part of data science').group()"
      ],
      "metadata": {
        "colab": {
          "base_uri": "https://localhost:8080/",
          "height": 35
        },
        "id": "u2cJ1d3g3VRQ",
        "outputId": "d99538aa-3689-4c8b-adb1-ff08a4f43516"
      },
      "execution_count": 46,
      "outputs": [
        {
          "output_type": "execute_result",
          "data": {
            "application/vnd.google.colaboratory.intrinsic+json": {
              "type": "string"
            },
            "text/plain": [
              "'Machine'"
            ]
          },
          "metadata": {},
          "execution_count": 46
        }
      ]
    },
    {
      "cell_type": "code",
      "source": [
        "casesen.search('MACHINE is learning.').group()"
      ],
      "metadata": {
        "colab": {
          "base_uri": "https://localhost:8080/",
          "height": 35
        },
        "id": "hE5zXO6h3Ylq",
        "outputId": "7cfdb17d-b3be-487f-b564-d6d75412df04"
      },
      "execution_count": 47,
      "outputs": [
        {
          "output_type": "execute_result",
          "data": {
            "application/vnd.google.colaboratory.intrinsic+json": {
              "type": "string"
            },
            "text/plain": [
              "'MACHINE'"
            ]
          },
          "metadata": {},
          "execution_count": 47
        }
      ]
    },
    {
      "cell_type": "code",
      "source": [
        "# 17. What does the . character normally match? What does it match if re.DOTALL is passed as 2nd argument in re.compile()?\n",
        "# Solution: The . character normally matches any character except the newline character. \n",
        "# If re.DOTALL is passed as the second argument to re.compile(), then the dot will also match newline characters."
      ],
      "metadata": {
        "id": "LfvLFcDG3lPd"
      },
      "execution_count": 48,
      "outputs": []
    },
    {
      "cell_type": "code",
      "source": [
        "# 18. If numRegex = re.compile(r'\\d+'), what will numRegex.sub('X', '11 drummers, 10 pipers, five rings, 4 hen') return?"
      ],
      "metadata": {
        "id": "sJSgNaJ0349H"
      },
      "execution_count": 49,
      "outputs": []
    },
    {
      "cell_type": "code",
      "source": [
        "numRegex = re.compile(r'\\d+')\n",
        "mo = numRegex.sub('X', '11 drummers, 10 pipers, five rings, 4 hen')\n",
        "mo"
      ],
      "metadata": {
        "colab": {
          "base_uri": "https://localhost:8080/",
          "height": 35
        },
        "id": "Zi_Q4m_P4FxB",
        "outputId": "bf7e8ce9-86b8-4289-be4a-b9a6875a6051"
      },
      "execution_count": 50,
      "outputs": [
        {
          "output_type": "execute_result",
          "data": {
            "application/vnd.google.colaboratory.intrinsic+json": {
              "type": "string"
            },
            "text/plain": [
              "'X drummers, X pipers, five rings, X hen'"
            ]
          },
          "metadata": {},
          "execution_count": 50
        }
      ]
    },
    {
      "cell_type": "code",
      "source": [
        "# 19. What does passing re.VERBOSE as the 2nd argument to re.compile() allow to do?\n",
        "# Solution: The re.VERBOSE argument allows you to add whitespace and comments to the string passed to re.compile()"
      ],
      "metadata": {
        "id": "_AeANMhg4KFI"
      },
      "execution_count": 51,
      "outputs": []
    },
    {
      "cell_type": "code",
      "source": [
        "# 20. How would you write a regex that match a number with comma for every three digits? It must match the given following:\n",
        "'42'\n",
        "'1,234'\n",
        "'6,368,745'\n",
        "\n",
        " but not the following:\n",
        "\n",
        "'12,34,567' (which has only two digits between the commas)\n",
        "'1234' (which lacks commas)"
      ],
      "metadata": {
        "id": "3AJRoFXm4eHw"
      },
      "execution_count": null,
      "outputs": []
    },
    {
      "cell_type": "code",
      "source": [
        "reg1 = re.compile(r'^\\d{1,3}(,\\d{3})*$')\n",
        "mo1 = reg1.search('42')\n",
        "mo1.group()"
      ],
      "metadata": {
        "colab": {
          "base_uri": "https://localhost:8080/",
          "height": 35
        },
        "id": "ssiN8KS74xhO",
        "outputId": "b7433ec6-ed8c-4160-e9a1-06ddfec8eba0"
      },
      "execution_count": 52,
      "outputs": [
        {
          "output_type": "execute_result",
          "data": {
            "application/vnd.google.colaboratory.intrinsic+json": {
              "type": "string"
            },
            "text/plain": [
              "'42'"
            ]
          },
          "metadata": {},
          "execution_count": 52
        }
      ]
    },
    {
      "cell_type": "code",
      "source": [
        "reg1 = re.compile(r'^\\d{1,3}(,\\d{3})*$')\n",
        "mo1 = reg1.search('1,234')\n",
        "mo1.group()"
      ],
      "metadata": {
        "colab": {
          "base_uri": "https://localhost:8080/",
          "height": 35
        },
        "id": "TRdBW-BJ40rb",
        "outputId": "2d9515b4-222a-4311-a58d-b9363b676717"
      },
      "execution_count": 53,
      "outputs": [
        {
          "output_type": "execute_result",
          "data": {
            "application/vnd.google.colaboratory.intrinsic+json": {
              "type": "string"
            },
            "text/plain": [
              "'1,234'"
            ]
          },
          "metadata": {},
          "execution_count": 53
        }
      ]
    },
    {
      "cell_type": "code",
      "source": [
        "reg1 = re.compile(r'^\\d{1,3}(,\\d{3})*$')\n",
        "mo1 = reg1.search('6,368,745')\n",
        "mo1.group()"
      ],
      "metadata": {
        "colab": {
          "base_uri": "https://localhost:8080/",
          "height": 35
        },
        "id": "qdhhMJMO487X",
        "outputId": "c9e4e223-0a4d-4088-cd56-ebb7febae490"
      },
      "execution_count": 54,
      "outputs": [
        {
          "output_type": "execute_result",
          "data": {
            "application/vnd.google.colaboratory.intrinsic+json": {
              "type": "string"
            },
            "text/plain": [
              "'6,368,745'"
            ]
          },
          "metadata": {},
          "execution_count": 54
        }
      ]
    },
    {
      "cell_type": "code",
      "source": [
        "# 21. How would you write a regex that matches the full name of someone whose last name is Watanabe? \n",
        "You can assume that the first name that comes before it will always be one word that begins with a capital letter. The regex must match the following:\n",
        "'Haruto Watanabe'\n",
        "'Alice Watanabe'\n",
        "'RoboCop Watanabe'\n",
        "\n",
        "but not the following:\n",
        "\n",
        "'haruto Watanabe' (where the first name is not capitalized)\n",
        "'Mr. Watanabe' (where the preceding word has a nonletter character)\n",
        "'Watanabe' (which has no first name)\n",
        "'Haruto watanabe' (where Watanabe is not capitalized)"
      ],
      "metadata": {
        "id": "a5FT_7IT5Awk"
      },
      "execution_count": null,
      "outputs": []
    },
    {
      "cell_type": "code",
      "source": [
        "name = re.compile(r'[A-Z][a-z]*\\sWatanabe')\n",
        "reg1 = re.compile(r'^\\d{1,3}(,\\d{haruto Watanabe3})*$')\n",
        "mo1 = name.search('Haruto Watanabe')\n",
        "mo1.group()"
      ],
      "metadata": {
        "colab": {
          "base_uri": "https://localhost:8080/",
          "height": 35
        },
        "id": "rGo2rjmE5Jyl",
        "outputId": "548cba4e-8d94-42f0-bb63-0e35680205ff"
      },
      "execution_count": 55,
      "outputs": [
        {
          "output_type": "execute_result",
          "data": {
            "application/vnd.google.colaboratory.intrinsic+json": {
              "type": "string"
            },
            "text/plain": [
              "'Haruto Watanabe'"
            ]
          },
          "metadata": {},
          "execution_count": 55
        }
      ]
    },
    {
      "cell_type": "code",
      "source": [
        "name = re.compile(r'[A-Z][a-z]*\\sWatanabe')\n",
        "reg1 = re.compile(r'^\\d{1,3}(,\\d{3})*$')\n",
        "mo1 = name.search('Alice Watanabe')\n",
        "mo1.group()"
      ],
      "metadata": {
        "colab": {
          "base_uri": "https://localhost:8080/",
          "height": 35
        },
        "id": "SKwi-1Fa5MlE",
        "outputId": "baf34a9f-dea8-4197-e49d-29297d0c6e4b"
      },
      "execution_count": 56,
      "outputs": [
        {
          "output_type": "execute_result",
          "data": {
            "application/vnd.google.colaboratory.intrinsic+json": {
              "type": "string"
            },
            "text/plain": [
              "'Alice Watanabe'"
            ]
          },
          "metadata": {},
          "execution_count": 56
        }
      ]
    },
    {
      "cell_type": "code",
      "source": [
        "name = re.compile(r'[A-Z][a-z]*\\sWatanabe')\n",
        "reg1 = re.compile(r'^\\d{1,3}(,\\d{3})*$')\n",
        "mo1 = name.search('Robocop Watanabe')\n",
        "mo1.group()"
      ],
      "metadata": {
        "colab": {
          "base_uri": "https://localhost:8080/",
          "height": 35
        },
        "id": "VVeTSh-z5Vfw",
        "outputId": "f3443087-a009-4e7f-ef52-2968bf4e3963"
      },
      "execution_count": 57,
      "outputs": [
        {
          "output_type": "execute_result",
          "data": {
            "application/vnd.google.colaboratory.intrinsic+json": {
              "type": "string"
            },
            "text/plain": [
              "'Robocop Watanabe'"
            ]
          },
          "metadata": {},
          "execution_count": 57
        }
      ]
    },
    {
      "cell_type": "code",
      "source": [
        "22. How would you write a regex that matches a sentence where the first word is either Alice, Bob,or Carol; the second word is either eats, pets, or throws; the third word is apples, cats, or baseballs; and the sentence ends with a period? This regex should be case-insensitive. It must match the following:\n",
        "'Alice eats apples.'\n",
        "'Bob pets cats.'\n",
        "'Carol throws baseballs.'\n",
        "'Alice throws Apples.'\n",
        "'BOB EATS CATS.'\n",
        "\n",
        "but not the following:\n",
        "\n",
        "'RoboCop eats apples.'\n",
        "'ALICE THROWS FOOTBALLS.'\n",
        "'Carol eats 7 cats.'"
      ],
      "metadata": {
        "id": "AfluiGTE5bmF"
      },
      "execution_count": null,
      "outputs": []
    },
    {
      "cell_type": "code",
      "source": [
        "name = re.compile(r'(Alice|Bob|Carol)\\s(eats|pets|throws)\\s(apples|cats|baseballs)\\.', re.IGNORECASE)\n",
        "\n",
        "mo1 = name.search('Alice eats apples.')\n",
        "mo1.group()"
      ],
      "metadata": {
        "colab": {
          "base_uri": "https://localhost:8080/",
          "height": 35
        },
        "id": "bT9a469A5nsi",
        "outputId": "ef0e555d-0c09-48a7-82b7-75eb3ffb7335"
      },
      "execution_count": 59,
      "outputs": [
        {
          "output_type": "execute_result",
          "data": {
            "application/vnd.google.colaboratory.intrinsic+json": {
              "type": "string"
            },
            "text/plain": [
              "'Alice eats apples.'"
            ]
          },
          "metadata": {},
          "execution_count": 59
        }
      ]
    },
    {
      "cell_type": "code",
      "source": [
        "ame = re.compile(r'(Alice|Bob|Carol)\\s(eats|pets|throws)\\s(apples|cats|baseballs)\\.', re.IGNORECASE)\n",
        "\n",
        "mo1 = name.search('Carol throws baseballs.')\n",
        "mo1.group()"
      ],
      "metadata": {
        "colab": {
          "base_uri": "https://localhost:8080/",
          "height": 35
        },
        "id": "KQTWmI-v5qoq",
        "outputId": "2d91abf3-3161-48e4-e933-ef6cc8b23e3d"
      },
      "execution_count": 60,
      "outputs": [
        {
          "output_type": "execute_result",
          "data": {
            "application/vnd.google.colaboratory.intrinsic+json": {
              "type": "string"
            },
            "text/plain": [
              "'Carol throws baseballs.'"
            ]
          },
          "metadata": {},
          "execution_count": 60
        }
      ]
    }
  ]
}