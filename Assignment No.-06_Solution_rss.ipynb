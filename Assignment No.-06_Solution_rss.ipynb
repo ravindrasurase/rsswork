{
  "nbformat": 4,
  "nbformat_minor": 0,
  "metadata": {
    "colab": {
      "name": "Assignment No.06_rss.ipynb",
      "provenance": [],
      "collapsed_sections": []
    },
    "kernelspec": {
      "name": "python3",
      "display_name": "Python 3"
    },
    "language_info": {
      "name": "python"
    }
  },
  "cells": [
    {
      "cell_type": "code",
      "execution_count": 1,
      "metadata": {
        "id": "QKBGEtpXrXP1"
      },
      "outputs": [],
      "source": [
        "#1. What are escape characters, and how do you use them?\n",
        "In Python strings, the backslash \"\\\" is a special character, also called the \"escape\" character.\n",
        "It is used in representing certain whitespace characters: \"\\t\" is a tab, \"\\n\" is a newline, and \"\\r\" is a carriage return\n",
        "prefixing a special character with \"\\\" turns it into an ordinary character. This is called \"escaping\". \n",
        "For example, \"\\'\" is the single quote character. 'It\\'s Sunday' therefore is a valid string and equivalent to \"It's Sunday\". \n",
        "Likewise, '\"' can be escaped: \"\\\"hello\\\"\" is a string begins and ends with the literal double quote character. \n",
        "Finally, \"\\\" can be used to escape itself: \"\\\\\" is the literal backslash character.\n"
      ]
    },
    {
      "cell_type": "code",
      "source": [
        "print(\"it's Sunday\")\n",
        "#above sentence can be reperesented using escape charecter as\n",
        "print('it\\'s Sunday')"
      ],
      "metadata": {
        "colab": {
          "base_uri": "https://localhost:8080/"
        },
        "id": "usbTvaM7rfty",
        "outputId": "c7222c0d-6b6f-459d-99f8-61620cf40610"
      },
      "execution_count": 2,
      "outputs": [
        {
          "output_type": "stream",
          "name": "stdout",
          "text": [
            "it's Sunday\n",
            "it's Sunday\n"
          ]
        }
      ]
    },
    {
      "cell_type": "code",
      "source": [
        "#2. What do the escape characters n and t stand for?\n",
        "#It is used in representing certain whitespace characters: \"\\n\" is a newline, \"\\t\" is a tab."
      ],
      "metadata": {
        "id": "JFTvcgNks15Y"
      },
      "execution_count": 10,
      "outputs": []
    },
    {
      "cell_type": "code",
      "source": [
        "#3. What is the way to include backslash characters in a string?\n",
        "print('its a back slash \\\\ in a sentence')"
      ],
      "metadata": {
        "colab": {
          "base_uri": "https://localhost:8080/"
        },
        "id": "NYJ84hl8uXp7",
        "outputId": "d87c5400-a2d2-4cb8-bac8-ff2527c1e620"
      },
      "execution_count": 11,
      "outputs": [
        {
          "output_type": "stream",
          "name": "stdout",
          "text": [
            "its a back slash \\ in a sentence\n"
          ]
        }
      ]
    },
    {
      "cell_type": "code",
      "source": [
        "#4. The string \"Howl's Moving Castle\" is a correct value. Why isn't the single quote character in the word Howl's not escaped a problem?\n",
        "#The single quote in Howl's is fine because you've used double quotes to mark the beginning and end of the string. \n",
        "#like wise we can use double quotes in with single quotes."
      ],
      "metadata": {
        "id": "5ilR72nrveaX"
      },
      "execution_count": null,
      "outputs": []
    },
    {
      "cell_type": "code",
      "source": [
        "print(\"HowI's Moving Castle\")"
      ],
      "metadata": {
        "colab": {
          "base_uri": "https://localhost:8080/"
        },
        "id": "mlsgvJCyvEb8",
        "outputId": "023079bf-6e21-46c5-9ca8-f64ba6765377"
      },
      "execution_count": 14,
      "outputs": [
        {
          "output_type": "stream",
          "name": "stdout",
          "text": [
            "HowI's Moving Castle\n"
          ]
        }
      ]
    },
    {
      "cell_type": "code",
      "source": [
        "# like wise we can use double quote in side single quote\n",
        "print('Its a \"Nice\" Sunday')"
      ],
      "metadata": {
        "colab": {
          "base_uri": "https://localhost:8080/"
        },
        "id": "BZWLvDdxvxWt",
        "outputId": "da414b7b-214c-4157-91df-43e86501e98a"
      },
      "execution_count": 15,
      "outputs": [
        {
          "output_type": "stream",
          "name": "stdout",
          "text": [
            "Its a \"Nice\" Sunday\n"
          ]
        }
      ]
    },
    {
      "cell_type": "code",
      "source": [
        "#5. How do you write a string of newlines if you don't want to use the n character?\n",
        "we can use the parameter end ='\\n' in print function"
      ],
      "metadata": {
        "id": "eCr_Dzv5v6I4"
      },
      "execution_count": 17,
      "outputs": []
    },
    {
      "cell_type": "code",
      "source": [
        "print(\"printing something in multiple lines\",end = '\\n')\n",
        "print(\"newline\")"
      ],
      "metadata": {
        "colab": {
          "base_uri": "https://localhost:8080/"
        },
        "id": "RQzG03XuwTTU",
        "outputId": "cd09339a-a6e1-4cf5-f49d-f35d73b93668"
      },
      "execution_count": 18,
      "outputs": [
        {
          "output_type": "stream",
          "name": "stdout",
          "text": [
            "printing something in multiple lines\n",
            "newline\n"
          ]
        }
      ]
    },
    {
      "cell_type": "code",
      "source": [
        "print(\"printing something in multiple lines\",end = '\\n')"
      ],
      "metadata": {
        "colab": {
          "base_uri": "https://localhost:8080/"
        },
        "id": "xunJlL-0wgqj",
        "outputId": "2fa82eaf-dd8f-4ae4-9ef9-fd77ce84b9ed"
      },
      "execution_count": 19,
      "outputs": [
        {
          "output_type": "stream",
          "name": "stdout",
          "text": [
            "printing something in multiple lines\n"
          ]
        }
      ]
    },
    {
      "cell_type": "code",
      "source": [
        "print(\"newline\")"
      ],
      "metadata": {
        "colab": {
          "base_uri": "https://localhost:8080/"
        },
        "id": "tjk7dGpmwrqc",
        "outputId": "515fef45-b7af-417d-fdb7-ddaf078f6360"
      },
      "execution_count": 29,
      "outputs": [
        {
          "output_type": "stream",
          "name": "stdout",
          "text": [
            "newline\n"
          ]
        }
      ]
    },
    {
      "cell_type": "code",
      "source": [
        "#6. What are the values of the given expressions?\n",
        "#Solution: 'Hello, world!'[1] -> e\n",
        "#'Hello, world!'[0:5] -> 'Hello\n",
        "#'Hello, world!'[:5] -> Hello\n",
        "#'Hello, world!'[3:] -> lo, world!"
      ],
      "metadata": {
        "id": "IAr87sgYyPz1"
      },
      "execution_count": 33,
      "outputs": []
    },
    {
      "cell_type": "code",
      "source": [
        "'Hello, world!'[1]"
      ],
      "metadata": {
        "colab": {
          "base_uri": "https://localhost:8080/",
          "height": 35
        },
        "id": "_6o3bEaxyYeL",
        "outputId": "035d8204-337e-46f6-e800-db8b2c62c9e3"
      },
      "execution_count": 31,
      "outputs": [
        {
          "output_type": "execute_result",
          "data": {
            "application/vnd.google.colaboratory.intrinsic+json": {
              "type": "string"
            },
            "text/plain": [
              "'e'"
            ]
          },
          "metadata": {},
          "execution_count": 31
        }
      ]
    },
    {
      "cell_type": "code",
      "source": [
        "'Hello, world!'[0:5]"
      ],
      "metadata": {
        "colab": {
          "base_uri": "https://localhost:8080/",
          "height": 35
        },
        "id": "wBW4Yp7-yclr",
        "outputId": "d46ed68b-4b47-4383-89fd-238486c6e532"
      },
      "execution_count": 34,
      "outputs": [
        {
          "output_type": "execute_result",
          "data": {
            "application/vnd.google.colaboratory.intrinsic+json": {
              "type": "string"
            },
            "text/plain": [
              "'Hello'"
            ]
          },
          "metadata": {},
          "execution_count": 34
        }
      ]
    },
    {
      "cell_type": "code",
      "source": [
        "'Hello, world!'[:5]"
      ],
      "metadata": {
        "colab": {
          "base_uri": "https://localhost:8080/",
          "height": 35
        },
        "id": "d9_FaL1ky054",
        "outputId": "0d4bd8ba-2f0c-48ee-a24a-b5002ea01249"
      },
      "execution_count": 35,
      "outputs": [
        {
          "output_type": "execute_result",
          "data": {
            "application/vnd.google.colaboratory.intrinsic+json": {
              "type": "string"
            },
            "text/plain": [
              "'Hello'"
            ]
          },
          "metadata": {},
          "execution_count": 35
        }
      ]
    },
    {
      "cell_type": "code",
      "source": [
        "'Hello, world!'[3:]"
      ],
      "metadata": {
        "colab": {
          "base_uri": "https://localhost:8080/",
          "height": 35
        },
        "id": "yleMEaClzSIG",
        "outputId": "bc74c599-7cd2-40f1-9263-55e7d7c64f60"
      },
      "execution_count": 36,
      "outputs": [
        {
          "output_type": "execute_result",
          "data": {
            "application/vnd.google.colaboratory.intrinsic+json": {
              "type": "string"
            },
            "text/plain": [
              "'lo, world!'"
            ]
          },
          "metadata": {},
          "execution_count": 36
        }
      ]
    },
    {
      "cell_type": "code",
      "source": [
        "#7. What are the values of the following expressions?\n",
        "#Solution:'Hello'.upper() - > HELLO\n",
        "#'Hello'.upper().isupper() -> True\n",
        "#'Hello'.upper().lower() -> hello"
      ],
      "metadata": {
        "id": "iMwl7H8uzVdY"
      },
      "execution_count": 37,
      "outputs": []
    },
    {
      "cell_type": "code",
      "source": [
        "'Hello'.upper()"
      ],
      "metadata": {
        "colab": {
          "base_uri": "https://localhost:8080/",
          "height": 35
        },
        "id": "ghRDvPrrzvIA",
        "outputId": "0840899b-4cd8-4499-f9b9-9ddab5fb4565"
      },
      "execution_count": 38,
      "outputs": [
        {
          "output_type": "execute_result",
          "data": {
            "application/vnd.google.colaboratory.intrinsic+json": {
              "type": "string"
            },
            "text/plain": [
              "'HELLO'"
            ]
          },
          "metadata": {},
          "execution_count": 38
        }
      ]
    },
    {
      "cell_type": "code",
      "source": [
        "'Hello'.upper().isupper()"
      ],
      "metadata": {
        "colab": {
          "base_uri": "https://localhost:8080/"
        },
        "id": "i5No7sFGz0Ip",
        "outputId": "43c2834f-21bb-4fa7-c1e6-3278f4f5359a"
      },
      "execution_count": 39,
      "outputs": [
        {
          "output_type": "execute_result",
          "data": {
            "text/plain": [
              "True"
            ]
          },
          "metadata": {},
          "execution_count": 39
        }
      ]
    },
    {
      "cell_type": "code",
      "source": [
        "'Hello'.upper().lower()"
      ],
      "metadata": {
        "colab": {
          "base_uri": "https://localhost:8080/",
          "height": 35
        },
        "id": "Qiql2dGez30A",
        "outputId": "befaf0b6-d2ea-4af3-d860-fdcb5e57c7d4"
      },
      "execution_count": 40,
      "outputs": [
        {
          "output_type": "execute_result",
          "data": {
            "application/vnd.google.colaboratory.intrinsic+json": {
              "type": "string"
            },
            "text/plain": [
              "'hello'"
            ]
          },
          "metadata": {},
          "execution_count": 40
        }
      ]
    },
    {
      "cell_type": "code",
      "source": [
        "#8. What are the values of the following expressions?\n",
        "#Solution: 'Remember, remember, the fifth of July.'.split() -> splits with space and returns list of words\n",
        "#'-'.join('There can only one.'.split()) splits with space and join with '_'"
      ],
      "metadata": {
        "id": "GVd22b21z6uH"
      },
      "execution_count": 41,
      "outputs": []
    },
    {
      "cell_type": "code",
      "source": [
        "'Remember, remember, the fifth of July.'.split()"
      ],
      "metadata": {
        "colab": {
          "base_uri": "https://localhost:8080/"
        },
        "id": "l5Fc5VQV0KEk",
        "outputId": "a94f07b0-ef6e-4236-bb73-2553b6ee1f65"
      },
      "execution_count": 42,
      "outputs": [
        {
          "output_type": "execute_result",
          "data": {
            "text/plain": [
              "['Remember,', 'remember,', 'the', 'fifth', 'of', 'July.']"
            ]
          },
          "metadata": {},
          "execution_count": 42
        }
      ]
    },
    {
      "cell_type": "code",
      "source": [
        "'-'.join('There can only one.'.split())"
      ],
      "metadata": {
        "colab": {
          "base_uri": "https://localhost:8080/",
          "height": 35
        },
        "id": "MJpE0aIa0K0s",
        "outputId": "2cc54fd7-132a-48cb-f417-8593ce5ebee9"
      },
      "execution_count": 43,
      "outputs": [
        {
          "output_type": "execute_result",
          "data": {
            "application/vnd.google.colaboratory.intrinsic+json": {
              "type": "string"
            },
            "text/plain": [
              "'There-can-only-one.'"
            ]
          },
          "metadata": {},
          "execution_count": 43
        }
      ]
    },
    {
      "cell_type": "code",
      "source": [
        "#9. What are the methods for right-justifying, left-justifying, and centering a string?\n",
        "#Solution: The following methods are used for justifying strings\n",
        "#ljust()\n",
        "#rjust()\n",
        "#center()"
      ],
      "metadata": {
        "id": "wLwtF8-o0Yac"
      },
      "execution_count": 44,
      "outputs": []
    },
    {
      "cell_type": "code",
      "source": [
        "# left justified\n",
        "str =\"Ravindra\"\n",
        "str.ljust(16,\"-\")"
      ],
      "metadata": {
        "colab": {
          "base_uri": "https://localhost:8080/",
          "height": 35
        },
        "id": "HD4ynzAe01NU",
        "outputId": "332c2426-1ce6-4073-e8af-36cbae1107b0"
      },
      "execution_count": 50,
      "outputs": [
        {
          "output_type": "execute_result",
          "data": {
            "application/vnd.google.colaboratory.intrinsic+json": {
              "type": "string"
            },
            "text/plain": [
              "'Ravindra--------'"
            ]
          },
          "metadata": {},
          "execution_count": 50
        }
      ]
    },
    {
      "cell_type": "code",
      "source": [
        "# right justified\n",
        "str =\"I'm Assistant Professor\"\n",
        "str.rjust(34,'*')"
      ],
      "metadata": {
        "colab": {
          "base_uri": "https://localhost:8080/",
          "height": 35
        },
        "id": "Gyiz-Xt103Qq",
        "outputId": "488606d7-e28d-440a-a38d-448d82ea7d52"
      },
      "execution_count": 51,
      "outputs": [
        {
          "output_type": "execute_result",
          "data": {
            "application/vnd.google.colaboratory.intrinsic+json": {
              "type": "string"
            },
            "text/plain": [
              "\"***********I'm Assistant Professor\""
            ]
          },
          "metadata": {},
          "execution_count": 51
        }
      ]
    },
    {
      "cell_type": "code",
      "source": [
        "# center justified\n",
        "str =\"You are really wonderful person\"\n",
        "str.center(43,'*')"
      ],
      "metadata": {
        "colab": {
          "base_uri": "https://localhost:8080/",
          "height": 35
        },
        "id": "NwNoyGYC1Nws",
        "outputId": "cf4be4cd-bb49-4d21-fbf8-288f3151b011"
      },
      "execution_count": 52,
      "outputs": [
        {
          "output_type": "execute_result",
          "data": {
            "application/vnd.google.colaboratory.intrinsic+json": {
              "type": "string"
            },
            "text/plain": [
              "'******You are really wonderful person******'"
            ]
          },
          "metadata": {},
          "execution_count": 52
        }
      ]
    },
    {
      "cell_type": "code",
      "source": [
        "#10. What is the best way to remove whitespace characters from the start or end?\n",
        "#Solution: lstrip() -> removes white spaces from left of the string\n",
        "#rstrip() -> removes whitespaces from right of the string"
      ],
      "metadata": {
        "id": "0hhBtWUj1knK"
      },
      "execution_count": 53,
      "outputs": []
    },
    {
      "cell_type": "code",
      "source": [
        "str =\"  asdf jkl;  \"\n",
        "str.lstrip()"
      ],
      "metadata": {
        "colab": {
          "base_uri": "https://localhost:8080/",
          "height": 35
        },
        "id": "zMEiRjJ-2HH_",
        "outputId": "b6c073c5-b626-485a-9b49-050ac4f804ed"
      },
      "execution_count": 57,
      "outputs": [
        {
          "output_type": "execute_result",
          "data": {
            "application/vnd.google.colaboratory.intrinsic+json": {
              "type": "string"
            },
            "text/plain": [
              "'asdf jkl;  '"
            ]
          },
          "metadata": {},
          "execution_count": 57
        }
      ]
    },
    {
      "cell_type": "code",
      "source": [
        "str =\"  asdf jkl;  \"\n",
        "str.rstrip()"
      ],
      "metadata": {
        "colab": {
          "base_uri": "https://localhost:8080/",
          "height": 35
        },
        "id": "DTyZ-We-2Mt8",
        "outputId": "7905510e-4ea0-457c-d895-8a3bee151be2"
      },
      "execution_count": 56,
      "outputs": [
        {
          "output_type": "execute_result",
          "data": {
            "application/vnd.google.colaboratory.intrinsic+json": {
              "type": "string"
            },
            "text/plain": [
              "'  asdf jkl;'"
            ]
          },
          "metadata": {},
          "execution_count": 56
        }
      ]
    },
    {
      "cell_type": "code",
      "source": [
        ""
      ],
      "metadata": {
        "id": "wHr7Q-Hp2hLL"
      },
      "execution_count": null,
      "outputs": []
    }
  ]
}