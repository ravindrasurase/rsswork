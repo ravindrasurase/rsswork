{
 "cells": [
  {
   "cell_type": "code",
   "execution_count": null,
   "id": "ccc50c79",
   "metadata": {},
   "outputs": [],
   "source": [
    "1.What are the two values of the Boolean data type? How do you write them?\n",
    "    True & False"
   ]
  },
  {
   "cell_type": "code",
   "execution_count": null,
   "id": "c4692ecc",
   "metadata": {},
   "outputs": [],
   "source": [
    "2.What are the three different types of Boolean operators?\n",
    "  AND, OR  & NOT"
   ]
  },
  {
   "cell_type": "code",
   "execution_count": null,
   "id": "31414c1d",
   "metadata": {},
   "outputs": [],
   "source": [
    "3.Make a list of each Boolean operator's truth tables (i.e. every possible combination of Boolean values for the operator and what it evaluate ).\n",
    "i) and\n",
    "True and True = True\n",
    "True and False = False\n",
    "False and True = False\n",
    "False and False = False\n",
    "ii) or\n",
    "True or True = True\n",
    "True or False = True\n",
    "False or True = True\n",
    "False or False = False\n",
    "iii)not\n",
    "not True = False\n",
    "not False = True\n"
   ]
  },
  {
   "cell_type": "code",
   "execution_count": null,
   "id": "eff38257",
   "metadata": {},
   "outputs": [],
   "source": [
    "4.What are the values of the following expressions?\n",
    "(5 > 4) and (3 == 5)---------False\n",
    "not (5 > 4)-----------False\n",
    "(5 > 4) or (3 == 5)----------True\n",
    "not ((5 > 4) or (3 == 5))----------False\n",
    "(True and True) and (True == False)---------False\n",
    "(not False) or (not True)----------True\n",
    " "
   ]
  },
  {
   "cell_type": "code",
   "execution_count": null,
   "id": "b9ff2155",
   "metadata": {},
   "outputs": [],
   "source": [
    "5.What are the six comparison operators?\n",
    "\n",
    "Less than ( < ), less than or equal to ( <= ), greater than ( > ), greater than or equal to ( >= ), equal to ( == ), and not equal to ( != ).\n"
   ]
  },
  {
   "cell_type": "code",
   "execution_count": null,
   "id": "7bd8b0dd",
   "metadata": {},
   "outputs": [],
   "source": [
    "6.How do you tell the difference between the equal to and assignment operators? Describe a condition and when you would use one\n",
    "i)First of all = is a assignment operator and == is a comparison operator.\n",
    "ii)= operator is used to assign value to a variable and == operator is used to compare two variable or constants\n"
   ]
  },
  {
   "cell_type": "code",
   "execution_count": null,
   "id": "eb35f89c",
   "metadata": {},
   "outputs": [],
   "source": [
    "7. Identify the three blocks in this code\n",
    "    "
   ]
  },
  {
   "cell_type": "code",
   "execution_count": 1,
   "id": "a3b3d1a3",
   "metadata": {},
   "outputs": [
    {
     "name": "stdout",
     "output_type": "stream",
     "text": [
      "ham\n"
     ]
    }
   ],
   "source": [
    "spam = 0\n",
    "if spam == 10:\n",
    "    print('eggs')\n",
    "else:\n",
    "        print('ham')\n",
    "        "
   ]
  },
  {
   "cell_type": "code",
   "execution_count": 2,
   "id": "97e511a5",
   "metadata": {},
   "outputs": [
    {
     "name": "stdout",
     "output_type": "stream",
     "text": [
      "ham\n"
     ]
    }
   ],
   "source": [
    "spam = 0\n",
    "if spam>5:\n",
    "    print('eggs')\n",
    "else:\n",
    "        print('ham')"
   ]
  },
  {
   "cell_type": "code",
   "execution_count": null,
   "id": "1fdacf43",
   "metadata": {},
   "outputs": [],
   "source": [
    "8. Write code that prints Hello if 1 is stored in spam, prints Howdy if 2 is stored in spam, and prints Greetings! if anything else is stored in spam."
   ]
  },
  {
   "cell_type": "code",
   "execution_count": 3,
   "id": "4baeab92",
   "metadata": {},
   "outputs": [
    {
     "name": "stdout",
     "output_type": "stream",
     "text": [
      "3\n",
      "Greetings!\n"
     ]
    }
   ],
   "source": [
    "spam = input()\n",
    "if spam == 1:\n",
    "    print('Hello')\n",
    "elif spam == 2:\n",
    "    print('Howdy')\n",
    "else:\n",
    "    print('Greetings!')"
   ]
  },
  {
   "cell_type": "code",
   "execution_count": null,
   "id": "d41a026c",
   "metadata": {},
   "outputs": [],
   "source": [
    "9. If your programme is stuck in an endless loop, what keys you will press?\n",
    " Ctrl + C .\n"
   ]
  },
  {
   "cell_type": "code",
   "execution_count": null,
   "id": "ce67fa50",
   "metadata": {},
   "outputs": [],
   "source": [
    "10. How can you tell the difference between break and continue?\n",
    "    A break ends the execution to the end of the loop and continue moves the execution to the start of the loop."
   ]
  },
  {
   "cell_type": "code",
   "execution_count": null,
   "id": "3dec165a",
   "metadata": {},
   "outputs": [],
   "source": [
    "11. In a for loop, what is the difference between range (10), range(0, 10), and range(0, 10, 1)?\n",
    "range(10) = defines range upto 10\n",
    "range(0, 10) = defines the range as between 0 and 10.\n",
    "range(0, 10, 1) defines the range as between 0 and 10 with steps of 1"
   ]
  },
  {
   "cell_type": "code",
   "execution_count": null,
   "id": "10688bb3",
   "metadata": {},
   "outputs": [],
   "source": [
    "12. Write a short program that prints the numbers 1 to 10 using a for loop. Then write an equivalent program that prints the numbers 1 to 10 using a while loop.\n",
    "For Loop:\n",
    "for i in range(1,11):\n",
    "print(i)\n"
   ]
  },
  {
   "cell_type": "code",
   "execution_count": null,
   "id": "d8c8eb98",
   "metadata": {},
   "outputs": [],
   "source": [
    "While Loop:\n",
    "i = 1\n",
    "while i < 11:\n",
    "print(i)\n",
    "i = i + 1\n"
   ]
  },
  {
   "cell_type": "code",
   "execution_count": null,
   "id": "6c36df5d",
   "metadata": {},
   "outputs": [],
   "source": [
    "13. If you had a function named bacon() inside a module named spam, how would you call it after importing spam?\n",
    "    import spam\n",
    "    spam.bacon()\n",
    "\n",
    "\n",
    "\n"
   ]
  }
 ],
 "metadata": {
  "kernelspec": {
   "display_name": "Python 3 (ipykernel)",
   "language": "python",
   "name": "python3"
  },
  "language_info": {
   "codemirror_mode": {
    "name": "ipython",
    "version": 3
   },
   "file_extension": ".py",
   "mimetype": "text/x-python",
   "name": "python",
   "nbconvert_exporter": "python",
   "pygments_lexer": "ipython3",
   "version": "3.9.7"
  }
 },
 "nbformat": 4,
 "nbformat_minor": 5
}
